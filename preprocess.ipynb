{
 "cells": [
  {
   "cell_type": "code",
   "execution_count": 1,
   "metadata": {},
   "outputs": [],
   "source": [
    "import geopandas as gpd\n",
    "from tqdm import tqdm"
   ]
  },
  {
   "cell_type": "markdown",
   "metadata": {},
   "source": [
    "### Get the data in the folder ./LCPS_data for pre-processing. Let's call this `retrieved data`."
   ]
  },
  {
   "cell_type": "code",
   "execution_count": 2,
   "metadata": {},
   "outputs": [],
   "source": [
    "def retrieve_data(sy):\n",
    "    \"\"\"\n",
    "    Retrieve data for a given school year (sy)\n",
    "    \"\"\"\n",
    "    data_dir = \"./LCPS_data\"\n",
    "    # Read the data files\n",
    "    schools = gpd.read_file('{}/LCPS_Sites_{}.shp'.format(data_dir, sy))\n",
    "    students = gpd.read_file('{}/Students_{}.shp'.format(data_dir, sy))\n",
    "    spas = gpd.read_file('{}/PlanningZones_{}.shp'.format(data_dir, sy))\n",
    "    \n",
    "    return schools, students, spas"
   ]
  },
  {
   "cell_type": "code",
   "execution_count": 3,
   "metadata": {},
   "outputs": [],
   "source": [
    "sy = '2017_2018'"
   ]
  },
  {
   "cell_type": "code",
   "execution_count": 4,
   "metadata": {},
   "outputs": [],
   "source": [
    "schools, students, spas = retrieve_data(sy)"
   ]
  },
  {
   "cell_type": "markdown",
   "metadata": {},
   "source": [
    "#### Print out a data instance of the SPAs, SCHOOLs and STUDENTs"
   ]
  },
  {
   "cell_type": "code",
   "execution_count": 5,
   "metadata": {},
   "outputs": [
    {
     "name": "stdout",
     "output_type": "stream",
     "text": [
      "OBJECTID                                                      1\n",
      "COUNT_                                                        5\n",
      "STDYAREA                                                 WL03.4\n",
      "ELEM_                                                       126\n",
      "INT_                                                        205\n",
      "HIGH_                                                       311\n",
      "ELEM_CODE                                                   LOV\n",
      "INT_CODE                                                    HRM\n",
      "HIGH_CODE                                                   WHS\n",
      "DISTRICT                                                     WL\n",
      "UTILITIES                                                   WOU\n",
      "SHAPE_Leng                                              47268.8\n",
      "SHAPE_Area                                          6.39938e+07\n",
      "STDYAREA_1                                               WL03.4\n",
      "DISTRICT_1                                                   WL\n",
      "PLANNING_Z                                               WL03.4\n",
      "ELEM                                                        LOV\n",
      "MID                                                         HRM\n",
      "HIGH                                                        WHS\n",
      "UTILITIE_1                                                  WOU\n",
      "DISTRICT_2                                                   WL\n",
      "MID_2018                                                    HRM\n",
      "HIGH_2018                                                   WHS\n",
      "PK                                                            2\n",
      "KG                                                            2\n",
      "GR1                                                           4\n",
      "GR2                                                           5\n",
      "GR3                                                           3\n",
      "GR4                                                           5\n",
      "GR5                                                           4\n",
      "GR6                                                           2\n",
      "GR7                                                           4\n",
      "GR8                                                           4\n",
      "GR9                                                           5\n",
      "GR10                                                          3\n",
      "GR11                                                          3\n",
      "GR12                                                          3\n",
      "TOTAL_KG_5                                                   23\n",
      "TOTAL_6_8                                                    10\n",
      "TOTAL_9_12                                                   14\n",
      "TOTAL_KG_1                                                   47\n",
      "TOTAL_PK_1                                                   49\n",
      "ELEM_1                                                      LOV\n",
      "MID_1                                                       HRM\n",
      "HIGH_1                                                      WHS\n",
      "DISTRICT_3                                                   WL\n",
      "MID_2_2019                                                  HRM\n",
      "HIGH__2019                                                  WHS\n",
      "PLANNING_1                                               WL03.4\n",
      "UTILITIE_2                                                  WOU\n",
      "STUDENTS_P                                                   49\n",
      "Field39                                                    None\n",
      "Field40                                                    None\n",
      "geometry      POLYGON ((11725868.08609505 7152149.053464815,...\n",
      "Name: 0, dtype: object\n"
     ]
    }
   ],
   "source": [
    "for i, spa in spas.iterrows():\n",
    "    print(spa)\n",
    "    break"
   ]
  },
  {
   "cell_type": "code",
   "execution_count": 6,
   "metadata": {
    "scrolled": false
   },
   "outputs": [
    {
     "name": "stdout",
     "output_type": "stream",
     "text": [
      "OBJECTID                                                1\n",
      "SCH_CODE                                              HCA\n",
      "CLASS                                             CHARTER\n",
      "SCH_NUM                                               119\n",
      "NAME                            HILLSBORO CHARTER ACADEMY\n",
      "DATE_OPENE                                           1966\n",
      "BUILDING_D                                              7\n",
      "CLASSROOMS                                              6\n",
      "SPECIAL_SI                                              0\n",
      "TRAILERS                                                0\n",
      "SCHL_CODE                                             119\n",
      "STRT_GRD                                               -1\n",
      "END_GRD                                                 5\n",
      "ELEM_                                                 119\n",
      "INT_                                                    0\n",
      "MID_                                                    0\n",
      "HIGH_                                                   0\n",
      "CAPACITY                                                0\n",
      "PERM_CLRM                                               6\n",
      "PORT_CLRM                                               0\n",
      "geometry      POINT (11704031.79184122 7120651.488835394)\n",
      "Name: 0, dtype: object\n"
     ]
    }
   ],
   "source": [
    "for ind, school in schools.iterrows():\n",
    "    print(school)\n",
    "    break"
   ]
  },
  {
   "cell_type": "code",
   "execution_count": 7,
   "metadata": {
    "scrolled": false
   },
   "outputs": [
    {
     "name": "stdout",
     "output_type": "stream",
     "text": [
      "ObjectID                                                1\n",
      "ARC_Single                     21365 FITZGERALD DR, 20147\n",
      "Loud_ID                                            100011\n",
      "Address                                             21365\n",
      "Address_Ex                                           None\n",
      "ADDwEXT                                             21365\n",
      "Prefix                                               None\n",
      "Street_Nam                                     FITZGERALD\n",
      "Street_Typ                                             DR\n",
      "Suffix                                               None\n",
      "Town                                              ASHBURN\n",
      "Zip_1                                               20147\n",
      "Subdivisio                                  FARMWELL HUNT\n",
      "GRID_CODE                                          100011\n",
      "GRADE                                                  13\n",
      "IEP_FLAG                                                N\n",
      "GENDER                                                  M\n",
      "ETHNIC                                                  A\n",
      "BIRTH                                               41039\n",
      "APT_PH                                               None\n",
      "STATE_PH                                               VA\n",
      "LEP_FLAG                                                N\n",
      "FSI                                                     6\n",
      "Current_S                                             DIS\n",
      "Previous_S                                           None\n",
      "ELEM_CODE                                             DIS\n",
      "INT_CODE                                              FWS\n",
      "HIGH_CODE                                             BRH\n",
      "geometry      POINT (11771103.05687501 7057937.072916672)\n",
      "Name: 0, dtype: object\n"
     ]
    }
   ],
   "source": [
    "for index, student in students.iterrows():\n",
    "    print(student)\n",
    "    break"
   ]
  },
  {
   "cell_type": "markdown",
   "metadata": {},
   "source": [
    "### Printout the CRS of the SPAs, SCHOOLs and STUDENTs"
   ]
  },
  {
   "cell_type": "code",
   "execution_count": 8,
   "metadata": {
    "scrolled": true
   },
   "outputs": [
    {
     "data": {
      "text/plain": [
       "{'proj': 'lcc',\n",
       " 'lat_1': 38.03333333333333,\n",
       " 'lat_2': 39.2,\n",
       " 'lat_0': 37.66666666666666,\n",
       " 'lon_0': -78.5,\n",
       " 'x_0': 3499999.999999998,\n",
       " 'y_0': 2000000,\n",
       " 'ellps': 'GRS80',\n",
       " 'towgs84': '0,0,0,0,0,0,0',\n",
       " 'units': 'us-ft',\n",
       " 'no_defs': True}"
      ]
     },
     "execution_count": 8,
     "metadata": {},
     "output_type": "execute_result"
    }
   ],
   "source": [
    "spas.crs    # Printout the CRS"
   ]
  },
  {
   "cell_type": "code",
   "execution_count": 9,
   "metadata": {},
   "outputs": [
    {
     "data": {
      "text/plain": [
       "{'proj': 'lcc',\n",
       " 'lat_1': 38.03333333333333,\n",
       " 'lat_2': 39.2,\n",
       " 'lat_0': 37.66666666666666,\n",
       " 'lon_0': -78.5,\n",
       " 'x_0': 3499999.999999998,\n",
       " 'y_0': 2000000,\n",
       " 'ellps': 'GRS80',\n",
       " 'towgs84': '0,0,0,0,0,0,0',\n",
       " 'units': 'us-ft',\n",
       " 'no_defs': True}"
      ]
     },
     "execution_count": 9,
     "metadata": {},
     "output_type": "execute_result"
    }
   ],
   "source": [
    "students.crs"
   ]
  },
  {
   "cell_type": "code",
   "execution_count": 10,
   "metadata": {},
   "outputs": [
    {
     "data": {
      "text/plain": [
       "{'proj': 'lcc',\n",
       " 'lat_1': 38.03333333333333,\n",
       " 'lat_2': 39.2,\n",
       " 'lat_0': 37.66666666666666,\n",
       " 'lon_0': -78.5,\n",
       " 'x_0': 3499999.999999998,\n",
       " 'y_0': 2000000,\n",
       " 'ellps': 'GRS80',\n",
       " 'towgs84': '0,0,0,0,0,0,0',\n",
       " 'units': 'us-ft',\n",
       " 'no_defs': True}"
      ]
     },
     "execution_count": 10,
     "metadata": {},
     "output_type": "execute_result"
    }
   ],
   "source": [
    "schools.crs"
   ]
  },
  {
   "cell_type": "markdown",
   "metadata": {},
   "source": [
    "### Read the data (supplied with the algorithm) in the folder './data'. Let's call this `new data`."
   ]
  },
  {
   "cell_type": "code",
   "execution_count": 11,
   "metadata": {},
   "outputs": [],
   "source": [
    "spas_new = gpd.read_file('./data/SPAs.json')"
   ]
  },
  {
   "cell_type": "code",
   "execution_count": 12,
   "metadata": {},
   "outputs": [
    {
     "name": "stdout",
     "output_type": "stream",
     "text": [
      "OBJECTID                                                      1\n",
      "COUNT_                                                        5\n",
      "SPA                                                      WL03.4\n",
      "ELEM_                                                       126\n",
      "INT_                                                        205\n",
      "HIGH_                                                       311\n",
      "ELEM_CODE                                                   LOV\n",
      "ELEM_POP                                                     31\n",
      "MID_CODE                                                    HRM\n",
      "MID_POP                                                      12\n",
      "HIGH_CODE                                                   WHS\n",
      "HIGH_POP                                                     13\n",
      "DISTRICT                                                     WL\n",
      "UTILITIES                                                   WOU\n",
      "SHAPE_Leng                                              47261.2\n",
      "SHAPE_Area                                          6.40267e+07\n",
      "geometry      POLYGON ((11725476.14823064 7139237.834208563,...\n",
      "Name: 0, dtype: object\n"
     ]
    }
   ],
   "source": [
    "for i, s in spas_new.iterrows():\n",
    "    print(s)\n",
    "    break"
   ]
  },
  {
   "cell_type": "markdown",
   "metadata": {},
   "source": [
    "#### We have to modify the SPAs in `retrieved data` to match the entries in `new data`"
   ]
  },
  {
   "cell_type": "code",
   "execution_count": 13,
   "metadata": {},
   "outputs": [],
   "source": [
    "fields = ['ELEM_1', 'MID_1', 'HIGH_1', 'DISTRICT_3', 'MID_2_2019', 'HIGH__2019',\n",
    "          'PLANNING_1', 'UTILITIE_2', 'STUDENTS_P', 'Field39', 'Field40']\n",
    "spas.drop(fields, axis=1, inplace=True)"
   ]
  },
  {
   "cell_type": "code",
   "execution_count": 14,
   "metadata": {},
   "outputs": [],
   "source": [
    "# Adding new fields and renaming some existing ones\n",
    "spas = spas.rename(columns={\"INT_CODE\": \"MID_CODE\"})\n",
    "new_fields = ['ELEM_POP', 'MID_POP', 'HIGH_POP', 'TOT_POP']    # Population of ELEM, MID, HIGH and TOTAL\n",
    "\n",
    "for f in new_fields:\n",
    "    spas[f] = 0"
   ]
  },
  {
   "cell_type": "markdown",
   "metadata": {},
   "source": [
    "##### Do point-in-polygon test to find out number of students attending public schools in LCPS and residing within Loudoun county, VA."
   ]
  },
  {
   "cell_type": "code",
   "execution_count": 15,
   "metadata": {},
   "outputs": [
    {
     "data": {
      "text/plain": [
       "{1, 2, 3, 4, 5, 6, 7, 8, 9, 10, 11, 12, 13, 14}"
      ]
     },
     "execution_count": 15,
     "metadata": {},
     "output_type": "execute_result"
    }
   ],
   "source": [
    "set(students['GRADE'])    # Possible values of grade"
   ]
  },
  {
   "cell_type": "code",
   "execution_count": 16,
   "metadata": {},
   "outputs": [
    {
     "name": "stderr",
     "output_type": "stream",
     "text": [
      "81427it [19:42, 68.86it/s]\n"
     ]
    }
   ],
   "source": [
    "count = 0\n",
    "others = 0\n",
    "for index, student in tqdm(students.iterrows()):\n",
    "    student_location = student.geometry\n",
    "    student_grade = student['GRADE']\n",
    "    legit = True\n",
    "    for ind, spa in spas.iterrows():\n",
    "        \n",
    "        if student_location.within(spa.geometry):\n",
    "            count += 1\n",
    "            if 0 < student_grade < 6 or student_grade == 13:    # ELEMENTARY School has grades KG-5\n",
    "                spas.at[ind, 'ELEM_POP'] = spas['ELEM_POP'][ind] + 1\n",
    "            elif 5 < student_grade < 9:    # MIDDLE School has grades 6-8\n",
    "                spas.at[ind, 'MID_POP'] = spas['MID_POP'][ind] + 1\n",
    "            elif 8 < student_grade < 13:    # HIGH School has grades 9-12\n",
    "                spas.at[ind, 'HIGH_POP'] = spas['HIGH_POP'][ind] + 1\n",
    "            else:\n",
    "                legit = False\n",
    "                others += 1\n",
    "                \n",
    "            if legit:\n",
    "                spas.at[ind, 'TOT_POP'] = spas['TOT_POP'][ind] + 1\n",
    "                \n",
    "            break\n",
    "            \n",
    "total_students = len(students)\n"
   ]
  },
  {
   "cell_type": "code",
   "execution_count": 17,
   "metadata": {},
   "outputs": [
    {
     "name": "stdout",
     "output_type": "stream",
     "text": [
      "80345/81427 students living inside LCPS' boundary are considered for redistricting\n",
      "1054/81427 students living inside LCPS' boundary are ignored\n",
      "28/81427 students living outside LCPS' boundary are ignored\n"
     ]
    }
   ],
   "source": [
    "print('{}/{} students living inside LCPS\\' boundary are considered for redistricting'.format(count - others,\n",
    "                                                                                             total_students))\n",
    "print('{}/{} students living inside LCPS\\' boundary are ignored'.format(others, total_students))\n",
    "print('{}/{} students living outside LCPS\\' boundary are ignored'.format(total_students - count,\n",
    "                                                                         total_students))"
   ]
  },
  {
   "cell_type": "markdown",
   "metadata": {},
   "source": [
    "### Transform the CRS of the `retrieved data` to match `new data`. We need to project the shapefiles into a new coordinate system to ensure that the data you are working with uses common geometric projection. For more details refer to the [link](https://geopandas.org/projections.html)."
   ]
  },
  {
   "cell_type": "code",
   "execution_count": 18,
   "metadata": {},
   "outputs": [],
   "source": [
    "new_crs = spas_new.crs"
   ]
  },
  {
   "cell_type": "code",
   "execution_count": 19,
   "metadata": {},
   "outputs": [
    {
     "data": {
      "text/plain": [
       "{'init': 'epsg:2924'}"
      ]
     },
     "execution_count": 19,
     "metadata": {},
     "output_type": "execute_result"
    }
   ],
   "source": [
    "new_crs"
   ]
  },
  {
   "cell_type": "code",
   "execution_count": 20,
   "metadata": {},
   "outputs": [
    {
     "name": "stderr",
     "output_type": "stream",
     "text": [
      "/home/subhodip/Documents/Repositories/redistricting-schools/venv_schools/lib/python3.6/site-packages/pyproj/crs/crs.py:53: FutureWarning: '+init=<authority>:<code>' syntax is deprecated. '<authority>:<code>' is the preferred initialization method. When making the change, be mindful of axis order changes: https://pyproj4.github.io/pyproj/stable/gotchas.html#axis-order-changes-in-proj-6\n",
      "  return _prepare_from_string(\" \".join(pjargs))\n"
     ]
    }
   ],
   "source": [
    "spas = spas.to_crs(new_crs)"
   ]
  },
  {
   "cell_type": "code",
   "execution_count": 21,
   "metadata": {},
   "outputs": [
    {
     "name": "stderr",
     "output_type": "stream",
     "text": [
      "/home/subhodip/Documents/Repositories/redistricting-schools/venv_schools/lib/python3.6/site-packages/pyproj/crs/crs.py:53: FutureWarning: '+init=<authority>:<code>' syntax is deprecated. '<authority>:<code>' is the preferred initialization method. When making the change, be mindful of axis order changes: https://pyproj4.github.io/pyproj/stable/gotchas.html#axis-order-changes-in-proj-6\n",
      "  return _prepare_from_string(\" \".join(pjargs))\n"
     ]
    }
   ],
   "source": [
    "schools = schools.to_crs(new_crs)"
   ]
  },
  {
   "cell_type": "code",
   "execution_count": 22,
   "metadata": {},
   "outputs": [
    {
     "name": "stdout",
     "output_type": "stream",
     "text": [
      "{'init': 'epsg:2924'} {'init': 'epsg:2924'}\n"
     ]
    }
   ],
   "source": [
    "# Check if the projections have been reprojected \n",
    "print(spas.crs, schools.crs)"
   ]
  },
  {
   "cell_type": "markdown",
   "metadata": {},
   "source": [
    "### Write out the updated data as geojson files"
   ]
  },
  {
   "cell_type": "code",
   "execution_count": 23,
   "metadata": {},
   "outputs": [],
   "source": [
    "def write_data(schools, spas, sy):\n",
    "    \"\"\"\n",
    "    Retrieve data for a given school year (sy)\n",
    "    \"\"\"\n",
    "    data_dir = \"./LCPS_data\"\n",
    "    # Read the data files\n",
    "    schools.to_file('{}/Schools_{}.json'.format(data_dir, sy), driver='GeoJSON')\n",
    "    spas.to_file('{}/SPAs_{}.json'.format(data_dir, sy), driver='GeoJSON')\n"
   ]
  },
  {
   "cell_type": "code",
   "execution_count": 24,
   "metadata": {},
   "outputs": [],
   "source": [
    "write_data(schools, spas, sy)"
   ]
  },
  {
   "cell_type": "code",
   "execution_count": null,
   "metadata": {},
   "outputs": [],
   "source": []
  }
 ],
 "metadata": {
  "kernelspec": {
   "display_name": "Python 3",
   "language": "python",
   "name": "python3"
  },
  "language_info": {
   "codemirror_mode": {
    "name": "ipython",
    "version": 3
   },
   "file_extension": ".py",
   "mimetype": "text/x-python",
   "name": "python",
   "nbconvert_exporter": "python",
   "pygments_lexer": "ipython3",
   "version": "3.6.9"
  }
 },
 "nbformat": 4,
 "nbformat_minor": 1
}
