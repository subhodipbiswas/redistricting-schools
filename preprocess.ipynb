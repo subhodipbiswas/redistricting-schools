{
 "cells": [
  {
   "cell_type": "code",
   "execution_count": 305,
   "metadata": {},
   "outputs": [],
   "source": [
    "import geopandas as gpd\n",
    "from tqdm import tqdm\n",
    "import libpysal as lp\n",
    "import json"
   ]
  },
  {
   "cell_type": "markdown",
   "metadata": {},
   "source": [
    "### Get the data in the folder ./LCPS_data for pre-processing. Let's call this `retrieved data`."
   ]
  },
  {
   "cell_type": "code",
   "execution_count": 259,
   "metadata": {
    "code_folding": []
   },
   "outputs": [],
   "source": [
    "def retrieve_data(sy):\n",
    "    \"\"\"\n",
    "    Retrieve data for a given school year (sy)\n",
    "    \"\"\"\n",
    "    data_dir = \"./LCPS_data\"\n",
    "    # Read the data files\n",
    "    schools = gpd.read_file('{}/LCPS_Sites_{}.shp'.format(data_dir, sy))\n",
    "    students = gpd.read_file('{}/Students_{}.shp'.format(data_dir, sy))\n",
    "    spas = gpd.read_file('{}/PlanningZones_{}.shp'.format(data_dir, sy))\n",
    "    \n",
    "    return schools, students, spas"
   ]
  },
  {
   "cell_type": "code",
   "execution_count": 260,
   "metadata": {},
   "outputs": [],
   "source": [
    "sy = '2017_2018'"
   ]
  },
  {
   "cell_type": "code",
   "execution_count": 261,
   "metadata": {},
   "outputs": [],
   "source": [
    "schools, students, spas = retrieve_data(sy)"
   ]
  },
  {
   "cell_type": "markdown",
   "metadata": {},
   "source": [
    "#### Print out a data instance of the SPAs, SCHOOLs and STUDENTs"
   ]
  },
  {
   "cell_type": "code",
   "execution_count": 262,
   "metadata": {},
   "outputs": [
    {
     "name": "stdout",
     "output_type": "stream",
     "text": [
      "OBJECTID                                                      1\n",
      "COUNT_                                                        5\n",
      "STDYAREA                                                 WL03.4\n",
      "ELEM_                                                       126\n",
      "INT_                                                        205\n",
      "HIGH_                                                       311\n",
      "ELEM_CODE                                                   LOV\n",
      "INT_CODE                                                    HRM\n",
      "HIGH_CODE                                                   WHS\n",
      "DISTRICT                                                     WL\n",
      "UTILITIES                                                   WOU\n",
      "SHAPE_Leng                                              47268.8\n",
      "SHAPE_Area                                          6.39938e+07\n",
      "STDYAREA_1                                               WL03.4\n",
      "DISTRICT_1                                                   WL\n",
      "PLANNING_Z                                               WL03.4\n",
      "ELEM                                                        LOV\n",
      "MID                                                         HRM\n",
      "HIGH                                                        WHS\n",
      "UTILITIE_1                                                  WOU\n",
      "DISTRICT_2                                                   WL\n",
      "MID_2018                                                    HRM\n",
      "HIGH_2018                                                   WHS\n",
      "PK                                                            2\n",
      "KG                                                            2\n",
      "GR1                                                           4\n",
      "GR2                                                           5\n",
      "GR3                                                           3\n",
      "GR4                                                           5\n",
      "GR5                                                           4\n",
      "GR6                                                           2\n",
      "GR7                                                           4\n",
      "GR8                                                           4\n",
      "GR9                                                           5\n",
      "GR10                                                          3\n",
      "GR11                                                          3\n",
      "GR12                                                          3\n",
      "TOTAL_KG_5                                                   23\n",
      "TOTAL_6_8                                                    10\n",
      "TOTAL_9_12                                                   14\n",
      "TOTAL_KG_1                                                   47\n",
      "TOTAL_PK_1                                                   49\n",
      "ELEM_1                                                      LOV\n",
      "MID_1                                                       HRM\n",
      "HIGH_1                                                      WHS\n",
      "DISTRICT_3                                                   WL\n",
      "MID_2_2019                                                  HRM\n",
      "HIGH__2019                                                  WHS\n",
      "PLANNING_1                                               WL03.4\n",
      "UTILITIE_2                                                  WOU\n",
      "STUDENTS_P                                                   49\n",
      "Field39                                                    None\n",
      "Field40                                                    None\n",
      "geometry      POLYGON ((11725868.08609505 7152149.053464815,...\n",
      "Name: 0, dtype: object\n"
     ]
    }
   ],
   "source": [
    "for i, spa in spas.iterrows():\n",
    "    print(spa)\n",
    "    break"
   ]
  },
  {
   "cell_type": "code",
   "execution_count": 263,
   "metadata": {
    "scrolled": false
   },
   "outputs": [
    {
     "name": "stdout",
     "output_type": "stream",
     "text": [
      "OBJECTID                                                1\n",
      "SCH_CODE                                              HCA\n",
      "CLASS                                             CHARTER\n",
      "SCH_NUM                                               119\n",
      "NAME                            HILLSBORO CHARTER ACADEMY\n",
      "DATE_OPENE                                           1966\n",
      "BUILDING_D                                              7\n",
      "CLASSROOMS                                              6\n",
      "SPECIAL_SI                                              0\n",
      "TRAILERS                                                0\n",
      "SCHL_CODE                                             119\n",
      "STRT_GRD                                               -1\n",
      "END_GRD                                                 5\n",
      "ELEM_                                                 119\n",
      "INT_                                                    0\n",
      "MID_                                                    0\n",
      "HIGH_                                                   0\n",
      "CAPACITY                                                0\n",
      "PERM_CLRM                                               6\n",
      "PORT_CLRM                                               0\n",
      "geometry      POINT (11704031.79184122 7120651.488835394)\n",
      "Name: 0, dtype: object\n"
     ]
    }
   ],
   "source": [
    "for ind, school in schools.iterrows():\n",
    "    print(school)\n",
    "    break"
   ]
  },
  {
   "cell_type": "code",
   "execution_count": 264,
   "metadata": {
    "scrolled": false
   },
   "outputs": [
    {
     "name": "stdout",
     "output_type": "stream",
     "text": [
      "ObjectID                                                1\n",
      "ARC_Single                     21365 FITZGERALD DR, 20147\n",
      "Loud_ID                                            100011\n",
      "Address                                             21365\n",
      "Address_Ex                                           None\n",
      "ADDwEXT                                             21365\n",
      "Prefix                                               None\n",
      "Street_Nam                                     FITZGERALD\n",
      "Street_Typ                                             DR\n",
      "Suffix                                               None\n",
      "Town                                              ASHBURN\n",
      "Zip_1                                               20147\n",
      "Subdivisio                                  FARMWELL HUNT\n",
      "GRID_CODE                                          100011\n",
      "GRADE                                                  13\n",
      "IEP_FLAG                                                N\n",
      "GENDER                                                  M\n",
      "ETHNIC                                                  A\n",
      "BIRTH                                               41039\n",
      "APT_PH                                               None\n",
      "STATE_PH                                               VA\n",
      "LEP_FLAG                                                N\n",
      "FSI                                                     6\n",
      "Current_S                                             DIS\n",
      "Previous_S                                           None\n",
      "ELEM_CODE                                             DIS\n",
      "INT_CODE                                              FWS\n",
      "HIGH_CODE                                             BRH\n",
      "geometry      POINT (11771103.05687501 7057937.072916672)\n",
      "Name: 0, dtype: object\n"
     ]
    }
   ],
   "source": [
    "for index, student in students.iterrows():\n",
    "    print(student)\n",
    "    break"
   ]
  },
  {
   "cell_type": "markdown",
   "metadata": {},
   "source": [
    "### Printout the CRS of the SPAs, SCHOOLs and STUDENTs"
   ]
  },
  {
   "cell_type": "code",
   "execution_count": 265,
   "metadata": {
    "scrolled": true
   },
   "outputs": [
    {
     "data": {
      "text/plain": [
       "{'proj': 'lcc',\n",
       " 'lat_1': 38.03333333333333,\n",
       " 'lat_2': 39.2,\n",
       " 'lat_0': 37.66666666666666,\n",
       " 'lon_0': -78.5,\n",
       " 'x_0': 3499999.999999998,\n",
       " 'y_0': 2000000,\n",
       " 'ellps': 'GRS80',\n",
       " 'towgs84': '0,0,0,0,0,0,0',\n",
       " 'units': 'us-ft',\n",
       " 'no_defs': True}"
      ]
     },
     "execution_count": 265,
     "metadata": {},
     "output_type": "execute_result"
    }
   ],
   "source": [
    "spas.crs    # Printout the CRS"
   ]
  },
  {
   "cell_type": "code",
   "execution_count": 266,
   "metadata": {},
   "outputs": [
    {
     "data": {
      "text/plain": [
       "Index(['OBJECTID', 'COUNT_', 'STDYAREA', 'ELEM_', 'INT_', 'HIGH_', 'ELEM_CODE',\n",
       "       'INT_CODE', 'HIGH_CODE', 'DISTRICT', 'UTILITIES', 'SHAPE_Leng',\n",
       "       'SHAPE_Area', 'STDYAREA_1', 'DISTRICT_1', 'PLANNING_Z', 'ELEM', 'MID',\n",
       "       'HIGH', 'UTILITIE_1', 'DISTRICT_2', 'MID_2018', 'HIGH_2018', 'PK', 'KG',\n",
       "       'GR1', 'GR2', 'GR3', 'GR4', 'GR5', 'GR6', 'GR7', 'GR8', 'GR9', 'GR10',\n",
       "       'GR11', 'GR12', 'TOTAL_KG_5', 'TOTAL_6_8', 'TOTAL_9_12', 'TOTAL_KG_1',\n",
       "       'TOTAL_PK_1', 'ELEM_1', 'MID_1', 'HIGH_1', 'DISTRICT_3', 'MID_2_2019',\n",
       "       'HIGH__2019', 'PLANNING_1', 'UTILITIE_2', 'STUDENTS_P', 'Field39',\n",
       "       'Field40', 'geometry'],\n",
       "      dtype='object')"
      ]
     },
     "execution_count": 266,
     "metadata": {},
     "output_type": "execute_result"
    }
   ],
   "source": [
    "spas.keys()"
   ]
  },
  {
   "cell_type": "code",
   "execution_count": 267,
   "metadata": {},
   "outputs": [
    {
     "data": {
      "text/plain": [
       "['DS07.2',\n",
       " 'DS07.7',\n",
       " 'DS07.6',\n",
       " 'DS07.5',\n",
       " 'DS07.8',\n",
       " 'DS07.1',\n",
       " 'DS07',\n",
       " 'DS07.9',\n",
       " 'DS07.3',\n",
       " 'DS07.4',\n",
       " 'DS07.11']"
      ]
     },
     "execution_count": 267,
     "metadata": {},
     "output_type": "execute_result"
    }
   ],
   "source": [
    "[x for x in list(spas.PLANNING_1) if x.startswith('DS07')]"
   ]
  },
  {
   "cell_type": "code",
   "execution_count": 268,
   "metadata": {},
   "outputs": [
    {
     "data": {
      "text/plain": [
       "{'proj': 'lcc',\n",
       " 'lat_1': 38.03333333333333,\n",
       " 'lat_2': 39.2,\n",
       " 'lat_0': 37.66666666666666,\n",
       " 'lon_0': -78.5,\n",
       " 'x_0': 3499999.999999998,\n",
       " 'y_0': 2000000,\n",
       " 'ellps': 'GRS80',\n",
       " 'towgs84': '0,0,0,0,0,0,0',\n",
       " 'units': 'us-ft',\n",
       " 'no_defs': True}"
      ]
     },
     "execution_count": 268,
     "metadata": {},
     "output_type": "execute_result"
    }
   ],
   "source": [
    "students.crs"
   ]
  },
  {
   "cell_type": "code",
   "execution_count": 269,
   "metadata": {},
   "outputs": [
    {
     "data": {
      "text/plain": [
       "{'proj': 'lcc',\n",
       " 'lat_1': 38.03333333333333,\n",
       " 'lat_2': 39.2,\n",
       " 'lat_0': 37.66666666666666,\n",
       " 'lon_0': -78.5,\n",
       " 'x_0': 3499999.999999998,\n",
       " 'y_0': 2000000,\n",
       " 'ellps': 'GRS80',\n",
       " 'towgs84': '0,0,0,0,0,0,0',\n",
       " 'units': 'us-ft',\n",
       " 'no_defs': True}"
      ]
     },
     "execution_count": 269,
     "metadata": {},
     "output_type": "execute_result"
    }
   ],
   "source": [
    "schools.crs"
   ]
  },
  {
   "cell_type": "markdown",
   "metadata": {},
   "source": [
    "### Read the data (supplied with the algorithm) in the folder './data'. Let's call this `new data`."
   ]
  },
  {
   "cell_type": "code",
   "execution_count": 270,
   "metadata": {},
   "outputs": [],
   "source": [
    "spas_new = gpd.read_file('./data/SPAs.json')"
   ]
  },
  {
   "cell_type": "code",
   "execution_count": 271,
   "metadata": {},
   "outputs": [
    {
     "data": {
      "text/plain": [
       "['DS07.2',\n",
       " 'DS07.12',\n",
       " 'DS07.7',\n",
       " 'DS07.6',\n",
       " 'DS07.5',\n",
       " 'DS07.8',\n",
       " 'DS07.1',\n",
       " 'DS07',\n",
       " 'DS07.9',\n",
       " 'DS07.3',\n",
       " 'DS07.4',\n",
       " 'DS07.11']"
      ]
     },
     "execution_count": 271,
     "metadata": {},
     "output_type": "execute_result"
    }
   ],
   "source": [
    "[x for x in list(spas_new.SPA) if x.startswith('DS07')]"
   ]
  },
  {
   "cell_type": "code",
   "execution_count": 272,
   "metadata": {},
   "outputs": [
    {
     "name": "stdout",
     "output_type": "stream",
     "text": [
      "OBJECTID                                                      1\n",
      "COUNT_                                                        5\n",
      "SPA                                                      WL03.4\n",
      "ELEM_                                                       126\n",
      "INT_                                                        205\n",
      "HIGH_                                                       311\n",
      "ELEM_CODE                                                   LOV\n",
      "ELEM_POP                                                     31\n",
      "MID_CODE                                                    HRM\n",
      "MID_POP                                                      12\n",
      "HIGH_CODE                                                   WHS\n",
      "HIGH_POP                                                     13\n",
      "DISTRICT                                                     WL\n",
      "UTILITIES                                                   WOU\n",
      "SHAPE_Leng                                              47261.2\n",
      "SHAPE_Area                                          6.40267e+07\n",
      "geometry      POLYGON ((11725476.14823064 7139237.834208563,...\n",
      "Name: 0, dtype: object\n"
     ]
    }
   ],
   "source": [
    "for i, s in spas_new.iterrows():\n",
    "    print(s)\n",
    "    break"
   ]
  },
  {
   "cell_type": "markdown",
   "metadata": {},
   "source": [
    "#### We have to modify the SPAs in `retrieved data` to match the entries in `new data`"
   ]
  },
  {
   "cell_type": "code",
   "execution_count": 273,
   "metadata": {},
   "outputs": [],
   "source": [
    "fields = ['ELEM_1', 'MID_1', 'HIGH_1', 'DISTRICT_3', 'MID_2_2019', 'HIGH__2019',\n",
    "          'PLANNING_1', 'UTILITIE_2', 'STUDENTS_P', 'Field39', 'Field40']\n",
    "spas.drop(fields, axis=1, inplace=True)"
   ]
  },
  {
   "cell_type": "code",
   "execution_count": 276,
   "metadata": {},
   "outputs": [],
   "source": [
    "# Adding new fields and renaming some existing ones\n",
    "spas = spas.rename(columns={\"INT_CODE\": \"MID_CODE\"})\n",
    "spas = spas.rename(columns={\"STDYAREA\": \"SPA\"})\n",
    "new_fields = ['ELEM_POP', 'MID_POP', 'HIGH_POP', 'TOT_POP']    # Population of ELEM, MID, HIGH and TOTAL\n",
    "\n",
    "for f in new_fields:\n",
    "    spas[f] = 0"
   ]
  },
  {
   "cell_type": "markdown",
   "metadata": {},
   "source": [
    "##### Do point-in-polygon test to find out number of students attending public schools in LCPS and residing within Loudoun county, VA."
   ]
  },
  {
   "cell_type": "code",
   "execution_count": 277,
   "metadata": {},
   "outputs": [
    {
     "data": {
      "text/plain": [
       "Index(['OBJECTID', 'COUNT_', 'SPA', 'ELEM_', 'INT_', 'HIGH_', 'ELEM_CODE',\n",
       "       'MID_CODE', 'HIGH_CODE', 'DISTRICT', 'UTILITIES', 'SHAPE_Leng',\n",
       "       'SHAPE_Area', 'STDYAREA_1', 'DISTRICT_1', 'PLANNING_Z', 'ELEM', 'MID',\n",
       "       'HIGH', 'UTILITIE_1', 'DISTRICT_2', 'MID_2018', 'HIGH_2018', 'PK', 'KG',\n",
       "       'GR1', 'GR2', 'GR3', 'GR4', 'GR5', 'GR6', 'GR7', 'GR8', 'GR9', 'GR10',\n",
       "       'GR11', 'GR12', 'TOTAL_KG_5', 'TOTAL_6_8', 'TOTAL_9_12', 'TOTAL_KG_1',\n",
       "       'TOTAL_PK_1', 'geometry', 'ELEM_POP', 'MID_POP', 'HIGH_POP', 'TOT_POP'],\n",
       "      dtype='object')"
      ]
     },
     "execution_count": 277,
     "metadata": {},
     "output_type": "execute_result"
    }
   ],
   "source": [
    "spas.columns"
   ]
  },
  {
   "cell_type": "code",
   "execution_count": 278,
   "metadata": {},
   "outputs": [],
   "source": [
    "# spas['SPA'] = spas['STDYAREA_1']"
   ]
  },
  {
   "cell_type": "code",
   "execution_count": 279,
   "metadata": {},
   "outputs": [
    {
     "data": {
      "text/plain": [
       "{1, 2, 3, 4, 5, 6, 7, 8, 9, 10, 11, 12, 13, 14}"
      ]
     },
     "execution_count": 279,
     "metadata": {},
     "output_type": "execute_result"
    }
   ],
   "source": [
    "set(students['GRADE'])    # Possible values of grade"
   ]
  },
  {
   "cell_type": "code",
   "execution_count": 280,
   "metadata": {
    "code_folding": []
   },
   "outputs": [
    {
     "name": "stderr",
     "output_type": "stream",
     "text": [
      "81427it [30:20, 44.74it/s]\n"
     ]
    }
   ],
   "source": [
    "count = 0\n",
    "others = 0\n",
    "for index, student in tqdm(students.iterrows()):\n",
    "    student_location = student.geometry\n",
    "    student_grade = student['GRADE']\n",
    "    legit = True\n",
    "    for ind, spa in spas.iterrows():\n",
    "        \n",
    "        if student_location.within(spa.geometry):\n",
    "            count += 1\n",
    "            if 0 < student_grade < 6 or student_grade == 13:    # ELEMENTARY School has grades KG-5\n",
    "                spas.at[ind, 'ELEM_POP'] = spas['ELEM_POP'][ind] + 1\n",
    "            elif 5 < student_grade < 9:    # MIDDLE School has grades 6-8\n",
    "                spas.at[ind, 'MID_POP'] = spas['MID_POP'][ind] + 1\n",
    "            elif 8 < student_grade < 13:    # HIGH School has grades 9-12\n",
    "                spas.at[ind, 'HIGH_POP'] = spas['HIGH_POP'][ind] + 1\n",
    "            else:\n",
    "                legit = False\n",
    "                others += 1\n",
    "#                 print(others)\n",
    "                \n",
    "            if legit:\n",
    "                spas.at[ind, 'TOT_POP'] = spas['TOT_POP'][ind] + 1\n",
    "                \n",
    "            break\n",
    "            \n",
    "total_students = len(students)\n"
   ]
  },
  {
   "cell_type": "code",
   "execution_count": 281,
   "metadata": {},
   "outputs": [
    {
     "name": "stdout",
     "output_type": "stream",
     "text": [
      "80345/81427 students living inside LCPS' boundary are considered for redistricting\n",
      "1054/81427 students living inside LCPS' boundary are ignored\n",
      "28/81427 students living outside LCPS' boundary are ignored\n"
     ]
    }
   ],
   "source": [
    "print('{}/{} students living inside LCPS\\' boundary are considered for redistricting'.format(count - others,\n",
    "                                                                                             total_students))\n",
    "print('{}/{} students living inside LCPS\\' boundary are ignored'.format(others, total_students))\n",
    "print('{}/{} students living outside LCPS\\' boundary are ignored'.format(total_students - count,\n",
    "                                                                         total_students))"
   ]
  },
  {
   "cell_type": "code",
   "execution_count": 294,
   "metadata": {},
   "outputs": [
    {
     "name": "stderr",
     "output_type": "stream",
     "text": [
      "8it [00:00, 36.78it/s]"
     ]
    },
    {
     "name": "stdout",
     "output_type": "stream",
     "text": [
      "WL53\n",
      "DN46.1\n",
      "EL05\n",
      "DS13\n",
      "CL27\n",
      "DS12.3\n",
      "WL38\n",
      "DN30\n",
      "CL27\n"
     ]
    },
    {
     "name": "stderr",
     "output_type": "stream",
     "text": [
      "\r",
      "13it [00:00, 39.42it/s]"
     ]
    },
    {
     "name": "stdout",
     "output_type": "stream",
     "text": [
      "EL03\n",
      "EL03\n",
      "EL27\n",
      "EL27\n",
      "CL37\n",
      "DN36.3\n",
      "DS13.1\n",
      "WL31\n"
     ]
    },
    {
     "name": "stderr",
     "output_type": "stream",
     "text": [
      "26it [00:00, 44.30it/s]"
     ]
    },
    {
     "name": "stdout",
     "output_type": "stream",
     "text": [
      "CL34\n",
      "CL10.2\n",
      "CL25.1\n",
      "CL27\n",
      "CL38\n",
      "CL37.2\n",
      "CL07\n",
      "WL30\n",
      "DN33\n",
      "DN01.4\n",
      "DN01.3\n"
     ]
    },
    {
     "name": "stderr",
     "output_type": "stream",
     "text": [
      "36it [00:00, 44.47it/s]"
     ]
    },
    {
     "name": "stdout",
     "output_type": "stream",
     "text": [
      "DS17\n",
      "DN15\n",
      "DN15\n",
      "WL11\n",
      "WL27.1\n",
      "WL67\n",
      "CL36\n",
      "DS12.2\n",
      "DN05\n",
      "CL35\n"
     ]
    },
    {
     "name": "stderr",
     "output_type": "stream",
     "text": [
      "47it [00:01, 44.14it/s]"
     ]
    },
    {
     "name": "stdout",
     "output_type": "stream",
     "text": [
      "CL15.3\n",
      "DS07.7\n",
      "CL15.3\n",
      "WL45\n",
      "WL20\n",
      "DS05\n",
      "DN32.3\n",
      "DN32.3\n",
      "EL09\n"
     ]
    },
    {
     "name": "stderr",
     "output_type": "stream",
     "text": [
      "\r",
      "52it [00:01, 41.73it/s]"
     ]
    },
    {
     "name": "stdout",
     "output_type": "stream",
     "text": [
      "WL19\n",
      "DS14\n",
      "WL22.1\n",
      "WL22.1\n",
      "DN10\n",
      "EL11\n"
     ]
    },
    {
     "name": "stderr",
     "output_type": "stream",
     "text": [
      "61it [00:01, 40.82it/s]"
     ]
    },
    {
     "name": "stdout",
     "output_type": "stream",
     "text": [
      "DN13\n",
      "EL24\n",
      "EL12\n",
      "EL20\n",
      "DN17.1\n",
      "DN19\n",
      "CL13\n",
      "DN27\n",
      "EL16\n"
     ]
    },
    {
     "name": "stderr",
     "output_type": "stream",
     "text": [
      "73it [00:01, 42.64it/s]"
     ]
    },
    {
     "name": "stdout",
     "output_type": "stream",
     "text": [
      "EL37\n",
      "WL29.1\n",
      "WL29.1\n",
      "WL29\n",
      "EL37\n",
      "EL48\n",
      "DN12\n",
      "EL38\n",
      "DN50.2\n",
      "EL39\n",
      "WL29.1\n"
     ]
    },
    {
     "name": "stderr",
     "output_type": "stream",
     "text": [
      "\r",
      "78it [00:01, 42.32it/s]"
     ]
    },
    {
     "name": "stdout",
     "output_type": "stream",
     "text": [
      "DS13.4\n",
      "EL44\n",
      "EL43\n",
      "DN36.1\n",
      "DS12.5\n",
      "WL03.2\n",
      "CL02\n",
      "CL07.2\n",
      "CL07.2\n",
      "WL67\n"
     ]
    },
    {
     "name": "stderr",
     "output_type": "stream",
     "text": [
      "89it [00:02, 42.90it/s]"
     ]
    },
    {
     "name": "stdout",
     "output_type": "stream",
     "text": [
      "CL07\n",
      "DN08.5\n",
      "DN51\n",
      "DN47\n",
      "DN47\n",
      "DN36\n",
      "DN04\n",
      "DS11\n",
      "CL07.2\n"
     ]
    },
    {
     "name": "stderr",
     "output_type": "stream",
     "text": [
      "99it [00:02, 42.75it/s]"
     ]
    },
    {
     "name": "stdout",
     "output_type": "stream",
     "text": [
      "DS07.5\n",
      "DN23\n",
      "DN08.4\n",
      "DS12.5\n",
      "DS07.5\n",
      "CL25.1\n",
      "DN01.4\n",
      "DS07.11\n",
      "DN36.3\n",
      "DN36.3\n"
     ]
    },
    {
     "name": "stderr",
     "output_type": "stream",
     "text": [
      "\r",
      "105it [00:02, 42.88it/s]"
     ]
    },
    {
     "name": "stdout",
     "output_type": "stream",
     "text": [
      "CL34.1\n",
      "DS07.3\n",
      "DS07.3\n"
     ]
    },
    {
     "name": "stderr",
     "output_type": "stream",
     "text": [
      "\n"
     ]
    }
   ],
   "source": [
    "count = 0\n",
    "others = 0\n",
    "for index, school in tqdm(schools.iterrows()):\n",
    "    school_location = school.geometry\n",
    "    legit = True\n",
    "    for ind, spa in spas.iterrows():\n",
    "        \n",
    "        if school_location.within(spa.geometry):\n",
    "            count += 1\n",
    "            if spa['STDYAREA_1']:\n",
    "                print(spa['STDYAREA_1'])\n",
    "                schools.at[index, 'SPA'] = str(spa['STDYAREA_1'])\n",
    "            else:\n",
    "                legit = False\n",
    "                others += 1\n",
    "                \n",
    "            if legit:\n",
    "                pass\n",
    "                \n",
    "            break\n",
    "#         assert 0, 'not contained'\n",
    "            \n"
   ]
  },
  {
   "cell_type": "code",
   "execution_count": 295,
   "metadata": {},
   "outputs": [
    {
     "data": {
      "text/plain": [
       "446"
      ]
     },
     "execution_count": 295,
     "metadata": {},
     "output_type": "execute_result"
    }
   ],
   "source": [
    "len(spas)"
   ]
  },
  {
   "cell_type": "code",
   "execution_count": 284,
   "metadata": {},
   "outputs": [],
   "source": [
    "schools['SCHOOL_TYP'] = ''\n",
    "\n",
    "schools.loc[schools['CLASS'] == 'ELEMENTARY','SCHOOL_TYP'] = 'ES'\n",
    "\n",
    "schools.loc[schools['CLASS'] == 'MIDDLE','SCHOOL_TYP'] = 'MS'\n",
    "\n",
    "schools.loc[schools['CLASS'] == 'HIGH','SCHOOL_TYP'] = 'HS'"
   ]
  },
  {
   "cell_type": "code",
   "execution_count": 285,
   "metadata": {},
   "outputs": [
    {
     "data": {
      "text/plain": [
       "Index(['OBJECTID', 'COUNT_', 'SPA', 'ELEM_', 'INT_', 'HIGH_', 'ELEM_CODE',\n",
       "       'MID_CODE', 'HIGH_CODE', 'DISTRICT', 'UTILITIES', 'SHAPE_Leng',\n",
       "       'SHAPE_Area', 'STDYAREA_1', 'DISTRICT_1', 'PLANNING_Z', 'ELEM', 'MID',\n",
       "       'HIGH', 'UTILITIE_1', 'DISTRICT_2', 'MID_2018', 'HIGH_2018', 'PK', 'KG',\n",
       "       'GR1', 'GR2', 'GR3', 'GR4', 'GR5', 'GR6', 'GR7', 'GR8', 'GR9', 'GR10',\n",
       "       'GR11', 'GR12', 'TOTAL_KG_5', 'TOTAL_6_8', 'TOTAL_9_12', 'TOTAL_KG_1',\n",
       "       'TOTAL_PK_1', 'geometry', 'ELEM_POP', 'MID_POP', 'HIGH_POP', 'TOT_POP'],\n",
       "      dtype='object')"
      ]
     },
     "execution_count": 285,
     "metadata": {},
     "output_type": "execute_result"
    }
   ],
   "source": [
    "spas.keys()"
   ]
  },
  {
   "cell_type": "markdown",
   "metadata": {},
   "source": [
    "### Transform the CRS of the `retrieved data` to match `new data`. We need to project the shapefiles into a new coordinate system to ensure that the data you are working with uses common geometric projection. For more details refer to the [link](https://geopandas.org/projections.html)."
   ]
  },
  {
   "cell_type": "code",
   "execution_count": 286,
   "metadata": {},
   "outputs": [],
   "source": [
    "new_crs = spas_new.crs"
   ]
  },
  {
   "cell_type": "code",
   "execution_count": 287,
   "metadata": {},
   "outputs": [
    {
     "data": {
      "text/plain": [
       "{'init': 'epsg:2924'}"
      ]
     },
     "execution_count": 287,
     "metadata": {},
     "output_type": "execute_result"
    }
   ],
   "source": [
    "new_crs"
   ]
  },
  {
   "cell_type": "code",
   "execution_count": 288,
   "metadata": {},
   "outputs": [
    {
     "name": "stderr",
     "output_type": "stream",
     "text": [
      "/home/jeffchan/.vre/p36/lib/python3.6/site-packages/pyproj/crs/crs.py:53: FutureWarning: '+init=<authority>:<code>' syntax is deprecated. '<authority>:<code>' is the preferred initialization method. When making the change, be mindful of axis order changes: https://pyproj4.github.io/pyproj/stable/gotchas.html#axis-order-changes-in-proj-6\n",
      "  return _prepare_from_string(\" \".join(pjargs))\n"
     ]
    }
   ],
   "source": [
    "spas = spas.to_crs(new_crs)"
   ]
  },
  {
   "cell_type": "code",
   "execution_count": 289,
   "metadata": {
    "scrolled": true
   },
   "outputs": [
    {
     "data": {
      "text/plain": [
       "0        \n",
       "1      ES\n",
       "2      ES\n",
       "3      ES\n",
       "4      HS\n",
       "5      ES\n",
       "6      ES\n",
       "7      ES\n",
       "8      HS\n",
       "9      ES\n",
       "10     MS\n",
       "11     HS\n",
       "12     MS\n",
       "13     MS\n",
       "14     MS\n",
       "15     ES\n",
       "16     ES\n",
       "17     ES\n",
       "18     ES\n",
       "19     HS\n",
       "20     ES\n",
       "21     ES\n",
       "22     ES\n",
       "23       \n",
       "24     MS\n",
       "25     HS\n",
       "26     MS\n",
       "27     ES\n",
       "28     MS\n",
       "29       \n",
       "       ..\n",
       "75     ES\n",
       "76     ES\n",
       "77     MS\n",
       "78     ES\n",
       "79     ES\n",
       "80     MS\n",
       "81     ES\n",
       "82       \n",
       "83       \n",
       "84     ES\n",
       "85     MS\n",
       "86     HS\n",
       "87     ES\n",
       "88     ES\n",
       "89     ES\n",
       "90       \n",
       "91     HS\n",
       "92     HS\n",
       "93     ES\n",
       "94     MS\n",
       "95     ES\n",
       "96       \n",
       "97     ES\n",
       "98     HS\n",
       "99       \n",
       "100    ES\n",
       "101      \n",
       "102      \n",
       "103      \n",
       "104      \n",
       "Name: SCHOOL_TYP, Length: 105, dtype: object"
      ]
     },
     "execution_count": 289,
     "metadata": {},
     "output_type": "execute_result"
    }
   ],
   "source": [
    "schools['SCHOOL_TYP'].fillna('')"
   ]
  },
  {
   "cell_type": "code",
   "execution_count": 290,
   "metadata": {},
   "outputs": [
    {
     "name": "stderr",
     "output_type": "stream",
     "text": [
      "/home/jeffchan/.vre/p36/lib/python3.6/site-packages/pyproj/crs/crs.py:53: FutureWarning: '+init=<authority>:<code>' syntax is deprecated. '<authority>:<code>' is the preferred initialization method. When making the change, be mindful of axis order changes: https://pyproj4.github.io/pyproj/stable/gotchas.html#axis-order-changes-in-proj-6\n",
      "  return _prepare_from_string(\" \".join(pjargs))\n"
     ]
    }
   ],
   "source": [
    "schools = schools.to_crs(new_crs)"
   ]
  },
  {
   "cell_type": "code",
   "execution_count": 291,
   "metadata": {},
   "outputs": [
    {
     "name": "stdout",
     "output_type": "stream",
     "text": [
      "{'init': 'epsg:2924'} {'init': 'epsg:2924'}\n"
     ]
    }
   ],
   "source": [
    "# Check if the projections have been reprojected \n",
    "print(spas.crs, schools.crs)"
   ]
  },
  {
   "cell_type": "code",
   "execution_count": 303,
   "metadata": {},
   "outputs": [
    {
     "data": {
      "text/plain": [
       "Index(['OBJECTID', 'COUNT_', 'SPA', 'ELEM_', 'INT_', 'HIGH_', 'ELEM_CODE',\n",
       "       'MID_CODE', 'HIGH_CODE', 'DISTRICT', 'UTILITIES', 'SHAPE_Leng',\n",
       "       'SHAPE_Area', 'STDYAREA_1', 'DISTRICT_1', 'PLANNING_Z', 'ELEM', 'MID',\n",
       "       'HIGH', 'UTILITIE_1', 'DISTRICT_2', 'MID_2018', 'HIGH_2018', 'PK', 'KG',\n",
       "       'GR1', 'GR2', 'GR3', 'GR4', 'GR5', 'GR6', 'GR7', 'GR8', 'GR9', 'GR10',\n",
       "       'GR11', 'GR12', 'TOTAL_KG_5', 'TOTAL_6_8', 'TOTAL_9_12', 'TOTAL_KG_1',\n",
       "       'TOTAL_PK_1', 'geometry', 'ELEM_POP', 'MID_POP', 'HIGH_POP', 'TOT_POP'],\n",
       "      dtype='object')"
      ]
     },
     "execution_count": 303,
     "metadata": {},
     "output_type": "execute_result"
    }
   ],
   "source": [
    "spas.keys()"
   ]
  },
  {
   "cell_type": "code",
   "execution_count": 304,
   "metadata": {},
   "outputs": [],
   "source": [
    "adjacency_matrix = dict(lp.weights.Rook.from_dataframe(spas, idVariable=\"STDYAREA_1\"))\n",
    "for key in adjacency_matrix:\n",
    "    adjacency_matrix[key] = list(adjacency_matrix[key].keys())\n",
    "with open(\"data/nbrlist_SPA.json\", \"w\") as fp:\n",
    "    json.dump(adjacency_matrix, fp)"
   ]
  },
  {
   "cell_type": "markdown",
   "metadata": {},
   "source": [
    "### Write out the updated data as geojson files"
   ]
  },
  {
   "cell_type": "code",
   "execution_count": 292,
   "metadata": {},
   "outputs": [],
   "source": [
    "def write_data(schools, spas, sy):\n",
    "    \"\"\"\n",
    "    Retrieve data for a given school year (sy)\n",
    "    \"\"\"\n",
    "    data_dir = \"./LCPS_data\"\n",
    "    # Read the data files\n",
    "    schools.to_file('{}/Schools_{}.json'.format(data_dir, sy), driver='GeoJSON')\n",
    "    spas.to_file('{}/SPAs_{}.json'.format(data_dir, sy), driver='GeoJSON')\n"
   ]
  },
  {
   "cell_type": "code",
   "execution_count": 306,
   "metadata": {},
   "outputs": [],
   "source": [
    "write_data(schools, spas, sy)"
   ]
  },
  {
   "cell_type": "code",
   "execution_count": null,
   "metadata": {},
   "outputs": [],
   "source": []
  }
 ],
 "metadata": {
  "kernelspec": {
   "display_name": "p36",
   "language": "python",
   "name": "p36"
  },
  "language_info": {
   "codemirror_mode": {
    "name": "ipython",
    "version": 3
   },
   "file_extension": ".py",
   "mimetype": "text/x-python",
   "name": "python",
   "nbconvert_exporter": "python",
   "pygments_lexer": "ipython3",
   "version": "3.6.9"
  }
 },
 "nbformat": 4,
 "nbformat_minor": 1
}
