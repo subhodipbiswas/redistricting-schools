{
 "metadata": {
  "language_info": {
   "codemirror_mode": {
    "name": "ipython",
    "version": 3
   },
   "file_extension": ".py",
   "mimetype": "text/x-python",
   "name": "python",
   "nbconvert_exporter": "python",
   "pygments_lexer": "ipython3",
   "version": "3.6.8-final"
  },
  "orig_nbformat": 2,
  "kernelspec": {
   "name": "Python 3.6.8 64-bit",
   "display_name": "Python 3.6.8 64-bit",
   "metadata": {
    "interpreter": {
     "hash": "70605a1fb304697dff7efae3fb161f885ef762a0809e81d336224ed9d058e2a1"
    }
   }
  }
 },
 "nbformat": 4,
 "nbformat_minor": 2,
 "cells": [
  {
   "cell_type": "code",
   "execution_count": null,
   "metadata": {},
   "outputs": [],
   "source": [
    "from datetime import datetime\n",
    "import itertools\n",
    "import json\n",
    "import math\n",
    "import os\n",
    "\n",
    "import geopandas\n",
    "import numpy as np\n",
    "import pandas"
   ]
  },
  {
   "cell_type": "code",
   "execution_count": null,
   "metadata": {},
   "outputs": [],
   "source": [
    "spas_df = geopandas.read_file(\"LCPS_data/PlanningZones_2017_2018.shp\")\n",
    "students_df = geopandas.read_file(\"LCPS_data/Students_2017_2018.shp\")"
   ]
  },
  {
   "cell_type": "code",
   "execution_count": null,
   "metadata": {},
   "outputs": [],
   "source": [
    "weights = list(range(0, 11))\n",
    "X_S = [\"ES\", \"MS\", \"HS\"]\n",
    "shc_results = dict(zip(X_S, [dict() for S in X_S]))\n",
    "\n",
    "for weight, school_level in itertools.product(weights, X_S):\n",
    "    with open(\"results/SHC/run%d_%s_SHC.json\" % (weight, school_level), \"r\") as results_file:\n",
    "        shc_results[school_level][weight] = json.load(results_file)"
   ]
  },
  {
   "cell_type": "code",
   "execution_count": null,
   "metadata": {
    "tags": []
   },
   "outputs": [],
   "source": [
    "# These 3 lines take ~2-3 minutes.\n",
    "students_df = students_df[students_df.GRADE != 14]\n",
    "loudoun_polygon = spas_df.unary_union\n",
    "students_df = students_df[students_df.geometry.map(loudoun_polygon.contains)]\n",
    "\n",
    "def group_students_by_spa(student):\n",
    "    \"\"\"GroupBy function for gathering student records to their SPAs.\n",
    "    \n",
    "    Args:\n",
    "        student: integer row index of the student record\n",
    "    \n",
    "    Returns:\n",
    "        A label to group this record into (the student's SPA).\n",
    "    \"\"\"\n",
    "    spa_index = spas_df.geometry.map(lambda spa: spa.contains(students_df.loc[student].geometry))\n",
    "    spa_index = spa_index[spa_index == True]\n",
    "    if len(spa_index) == 0:\n",
    "        return \"NONE\"\n",
    "    assert(len(spa_index) == 1)\n",
    "    return spas_df.loc[spa_index.index[0]].STDYAREA\n",
    "\n",
    "groups_path = \"data/spa_groups.json\"\n",
    "if os.path.exists(groups_path):\n",
    "    with open(groups_path, \"r\") as fp:\n",
    "        spa_groups = json.load(fp)\n",
    "else:\n",
    "    # This is O(k * n) overall for k SPAs and n students.\n",
    "    # Expect ~2.25 hours on a laptop or 1.5 on a server.\n",
    "    tic = datetime.now()\n",
    "    spa_groups = students_df.groupby(by=group_students_by_spa).groups\n",
    "    toc = datetime.now()\n",
    "    print(toc - tic)\n",
    "\n",
    "    def serialize_groups(obj):\n",
    "        if isinstance(obj, pandas.Int64Index):\n",
    "            return list(obj)\n",
    "        else:\n",
    "            raise Exception(\"obj was not an Int64Index as expected...\")\n",
    "\n",
    "    with open(groups_path, \"w\") as fp:\n",
    "        json.dump(spa_groups, fp, default=serialize_groups)"
   ]
  },
  {
   "cell_type": "code",
   "execution_count": null,
   "metadata": {
    "tags": []
   },
   "outputs": [],
   "source": [
    "# This has the form of Dict[school_level: str][weight: int] = List[trial: float]\n",
    "# Utilization scores: lower is better\n",
    "utilization_scores = dict(zip(X_S, [dict() for S in X_S]))\n",
    "\n",
    "sigma = 5\n",
    "for school_level in X_S:\n",
    "    for weight in weights:\n",
    "        final_partitions = [shc_results[school_level][weight][str(trial)][\"info\"][\"Final\"][\"zones\"] for trial in range(1, 26)]\n",
    "        trial_utilizations = []\n",
    "\n",
    "        for i, trial in enumerate(final_partitions, start=1):\n",
    "            utilization = 0\n",
    "            for school, school_district in trial.items():\n",
    "                school_population = school_district[\"Population\"]\n",
    "                school_capacity = school_district[\"Capacity\"]\n",
    "                utilization += abs(math.atan(sigma * (1 - school_population / school_capacity)))\n",
    "            utilization /= ((math.pi / 2) * len(trial.keys()))\n",
    "            assert(utilization >= 0 and utilization <= 1)\n",
    "            trial_utilizations.append(utilization) \n",
    "        utilization_scores[school_level][weight] = trial_utilizations"
   ]
  },
  {
   "cell_type": "code",
   "execution_count": null,
   "metadata": {},
   "outputs": [],
   "source": [
    "# Socioeconomic scores: lower is better\n",
    "socioeconomic_scores = dict(zip(X_S, [dict() for S in X_S]))\n",
    "\n",
    "# FSI value of 1 or 2 indicates free/reduced meals.\n",
    "county_farm_rate = len(students_df[students_df.FSI <= 2]) / len(students_df)\n",
    "\n",
    "def count_school_farms(spa_name, school_level):\n",
    "    try:\n",
    "        spa_students = students_df.loc[spa_groups[spa_name]]\n",
    "    except:\n",
    "        spa = spas_df[spas_df.STDYAREA == spa_name].iloc[0]\n",
    "        assert spa.TOTAL_KG_5 + spa.TOTAL_6_8 + spa.TOTAL_9_12 == 0\n",
    "        return 0\n",
    "    if school_level == \"ES\":\n",
    "        spa_students = spa_students[(spa_students.GRADE <= 5) | (spa_students.GRADE == 13)]\n",
    "    elif school_level == \"MS\":\n",
    "        spa_students = spa_students[(spa_students.GRADE >= 6) & (spa_students.GRADE <= 8)]\n",
    "    elif school_level == \"HS\":\n",
    "        spa_students = spa_students[(spa_students.GRADE >= 9) & (spa_students.GRADE <= 12)]\n",
    "    return len(spa_students[spa_students.FSI <= 2])\n",
    "\n",
    "tic = datetime.now()\n",
    "for school_level in X_S:\n",
    "    for weight in weights:\n",
    "        final_partitions = [shc_results[school_level][weight][str(trial)][\"info\"][\"Final\"][\"zones\"] for trial in range(1, 26)]\n",
    "        trial_economic = []\n",
    "\n",
    "        for i, trial in enumerate(final_partitions, start=1):\n",
    "            economic = 0\n",
    "            for school, school_district in trial.items():\n",
    "                school_farm_students = sum([count_school_farms(spa, school_level) for spa in school_district[\"STATE\"]])\n",
    "                if school_district[\"Population\"] == 0:\n",
    "                    # There are some strange plans where nobody was assigned to a school...\n",
    "                    economic += county_farm_rate\n",
    "                else:\n",
    "                    economic += abs(school_farm_students / school_district[\"Population\"] - county_farm_rate)\n",
    "            economic /= len(trial.keys())\n",
    "            assert economic >= 0 and economic <= county_farm_rate, economic\n",
    "            trial_economic.append(economic)\n",
    "        utilization_scores[school_level][weight] = trial_economic\n",
    "toc = datetime.now()\n",
    "print(toc - tic)"
   ]
  },
  {
   "cell_type": "code",
   "execution_count": null,
   "metadata": {},
   "outputs": [],
   "source": []
  }
 ]
}